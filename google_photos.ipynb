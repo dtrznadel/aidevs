{
 "cells": [
  {
   "cell_type": "code",
   "execution_count": 1,
   "metadata": {},
   "outputs": [],
   "source": [
    "from api_utils import *"
   ]
  },
  {
   "cell_type": "code",
   "execution_count": 3,
   "metadata": {},
   "outputs": [
    {
     "name": "stdout",
     "output_type": "stream",
     "text": [
      "Please visit this URL to authorize this application: https://accounts.google.com/o/oauth2/auth?response_type=code&client_id=262082585119-p69fmd2ptdi3hgn0n270ffkg6cof3ag9.apps.googleusercontent.com&redirect_uri=http%3A%2F%2Flocalhost%3A57322%2F&scope=https%3A%2F%2Fwww.googleapis.com%2Fauth%2Fphotoslibrary+https%3A%2F%2Fwww.googleapis.com%2Fauth%2Fdrive.metadata.readonly+https%3A%2F%2Fwww.googleapis.com%2Fauth%2Fdrive+https%3A%2F%2Fwww.googleapis.com%2Fauth%2Fdrive.photos.readonly&state=gtL0ezKO9RVdAkS4KxaBoSzdiWh4As&access_type=offline\n"
     ]
    }
   ],
   "source": [
    "check_google_token()"
   ]
  },
  {
   "cell_type": "code",
   "execution_count": 2,
   "metadata": {},
   "outputs": [],
   "source": [
    "photo_id = get_photo_ids_based_on_date_range(\n",
    "    start_date=\"2023-12-09\", end_date=\"2023-12-09\", pageSize=16\n",
    ")\n",
    "link_to_photo = find_photo_google_details_based_on_id(photo_id[1])[\"baseUrl\"]"
   ]
  },
  {
   "cell_type": "code",
   "execution_count": 6,
   "metadata": {},
   "outputs": [
    {
     "data": {
      "text/plain": [
       "'https://lh3.googleusercontent.com/lr/AAJ1LKecs_lmPz8yDOJJWUmrSsmCOsj7gc-3WnAvFcMUFZtg9rKmZVjapOWPbzEAyJggSOdvAmZMcq59qyJeEC_nhlQVLDvBoXpKI-3B-Omhd-si_3fpPzVbL7TRmlUEktxT6h1gK4CnElimf816KY3ja8_BVEjpY0Bdy_Eppyva5hO9vwPd5ld9gPnXEH9tziFo_aaXtdODwn_ns1DEyONtlm_eU7w-Gr48ElV4YaObulfPKgHxciDFzkMDlZjHhrJr90HkLFwndW8JFlAPVtb9lpHe9bZp175fQVv6bficq0vLKof03ugGaSxHvywrKhPBmHajbPhfgASs6d9d3l5Uyr0jjP93Ot6blyAhnfokDX9awoLy5bubQuUPf7LEwb7i_VjksvLwCYjFSsoB9Pg4uoIHKNX095oagWQ12hocaJzCVB1Ycg32rGIIX1lpcYPWi29qtPtrqRwompN-5f-x8TpmnaigUKZev24VqZ_tHVn9_qoIhiRr0Zme-rZL3Bx5rZHHKt9HdyQwxlbpO8Oz0-MFAXkvBfkfqVFsgHI3rHPk3vKJMB7yLtIPwCJD5Cu4KV9zEglFjMfOT5f6WtkGG638rvCfuHs4pBimOqZAOLktT73ooHiFVmcUjJDMMxuphKZ9KlbWKH9h0-_KiuIXXzsqTY5hredqDbRBetlbEQJXgvn5eaGzPdro_u8EA1aZQhUKDmGT6owIay290AsbY3HY9mJm-9RMX-eOgN-BWGmoE04ZocW1PQB-75Rwldc9qcezeL6RSK31SCZS_u4VQnOITlOyDiIXJsX42V7w4lvjMuEHRvif4fD8UuFK4nj3bv8JmzPXv9nkSi6JXcA7weiwP1nldpxPiZLqVb9hZyHBwh3_1b6hwAnNfdimHYj7O_wJJqlLLsA-x4nKYHk4Aff5VRyMuTUOs8OetK_nxyPx0ut3X_gmy7oJYXn7hdx39dxLOP05eUfBB25_0OoJe26eWG8foGrW1d3ce9qcjzM9is1ZldKlt-koyuHBJ4gvynE6B34fVLhebuhVVFsASnFAaVM'"
      ]
     },
     "execution_count": 6,
     "metadata": {},
     "output_type": "execute_result"
    }
   ],
   "source": [
    "link_to_photo"
   ]
  },
  {
   "cell_type": "code",
   "execution_count": 7,
   "metadata": {},
   "outputs": [
    {
     "data": {
      "text/plain": [
       "{'id': 'AD9e7BAjL7nLk1GwtLZHTxDRXmd35wL2_OeBeV3JZmjMB8-1yTNOs7eU2Y510A1-m1g38LhMBmt-g1P26ojrXZpwJb73vW76Eg',\n",
       " 'productUrl': 'https://photos.google.com/lr/photo/AD9e7BAjL7nLk1GwtLZHTxDRXmd35wL2_OeBeV3JZmjMB8-1yTNOs7eU2Y510A1-m1g38LhMBmt-g1P26ojrXZpwJb73vW76Eg',\n",
       " 'baseUrl': 'https://lh3.googleusercontent.com/lr/AAJ1LKecs_lmPz8yDOJJWUmrSsmCOsj7gc-3WnAvFcMUFZtg9rKmZVjapOWPbzEAyJggSOdvAmZMcq59qyJeEC_nhlQVLDvBoXpKI-3B-Omhd-si_3fpPzVbL7TRmlUEktxT6h1gK4CnElimf816KY3ja8_BVEjpY0Bdy_Eppyva5hO9vwPd5ld9gPnXEH9tziFo_aaXtdODwn_ns1DEyONtlm_eU7w-Gr48ElV4YaObulfPKgHxciDFzkMDlZjHhrJr90HkLFwndW8JFlAPVtb9lpHe9bZp175fQVv6bficq0vLKof03ugGaSxHvywrKhPBmHajbPhfgASs6d9d3l5Uyr0jjP93Ot6blyAhnfokDX9awoLy5bubQuUPf7LEwb7i_VjksvLwCYjFSsoB9Pg4uoIHKNX095oagWQ12hocaJzCVB1Ycg32rGIIX1lpcYPWi29qtPtrqRwompN-5f-x8TpmnaigUKZev24VqZ_tHVn9_qoIhiRr0Zme-rZL3Bx5rZHHKt9HdyQwxlbpO8Oz0-MFAXkvBfkfqVFsgHI3rHPk3vKJMB7yLtIPwCJD5Cu4KV9zEglFjMfOT5f6WtkGG638rvCfuHs4pBimOqZAOLktT73ooHiFVmcUjJDMMxuphKZ9KlbWKH9h0-_KiuIXXzsqTY5hredqDbRBetlbEQJXgvn5eaGzPdro_u8EA1aZQhUKDmGT6owIay290AsbY3HY9mJm-9RMX-eOgN-BWGmoE04ZocW1PQB-75Rwldc9qcezeL6RSK31SCZS_u4VQnOITlOyDiIXJsX42V7w4lvjMuEHRvif4fD8UuFK4nj3bv8JmzPXv9nkSi6JXcA7weiwP1nldpxPiZLqVb9hZyHBwh3_1b6hwAnNfdimHYj7O_wJJqlLLsA-x4nKYHk4Aff5VRyMuTUOs8OetK_nxyPx0ut3X_gmy7oJYXn7hdx39dxLOP05eUfBB25_0OoJe26eWG8foGrW1d3ce9qcjzM9is1ZldKlt-koyuHBJ4gvynE6B34fVLhebuhVVFsASnFAaVM',\n",
       " 'mimeType': 'image/jpeg',\n",
       " 'mediaMetadata': {'creationTime': '2023-12-09T08:08:41Z',\n",
       "  'width': '2268',\n",
       "  'height': '4032',\n",
       "  'photo': {'cameraMake': 'samsung',\n",
       "   'cameraModel': 'SM-G991B',\n",
       "   'focalLength': 5.4,\n",
       "   'apertureFNumber': 1.8,\n",
       "   'isoEquivalent': 400,\n",
       "   'exposureTime': '0.019999999s'}},\n",
       " 'filename': '20231209_090840.jpg'}"
      ]
     },
     "execution_count": 7,
     "metadata": {},
     "output_type": "execute_result"
    }
   ],
   "source": [
    "find_photo_google_details_based_on_id(photo_id[1])"
   ]
  },
  {
   "cell_type": "code",
   "execution_count": 5,
   "metadata": {},
   "outputs": [],
   "source": [
    "save_file_from_the_web(url=link_to_photo, format=\"jpg\", filename=\"konferencja\")"
   ]
  },
  {
   "cell_type": "code",
   "execution_count": 36,
   "metadata": {},
   "outputs": [
    {
     "data": {
      "text/plain": [
       "'https://lh3.googleusercontent.com/lr/AAJ1LKd4qACxeSGFKmqhgqdKbckmroCq3y2M890WehFT35b52IDrZcMSw6tKb0uOznKW7UtQNF0gPuF7O4Zu50vY0vAh7p9sR0fLYAsStZZ0M0Tez0v4-gBnrDyoFNcaZ5wp2Q0ZUFMdX_AIFLI0cVNZRhgVqayLwR2CFCC2FQTtckdx2kox5LN79dspKYVQDPdhL9-k-1rEk_Hs2hGCikLXlw0_8hhhuIocRGNd8jdQBBTawCe-b7XBKRLf-QFJZT42zsmKFZlqMvvRnDyz71vK6yN-5CYjk_rU0l5OlWdHE1Y4xAFecx4RDmwtwc1JGJAjfX6KwRUJMeav_5T0WR7kEFm6VBE9u8f6QqpprOAmMrbJ34_pDFlN_Ll-rbPE4UOIl0gqin_SW7Syz3LV3eiBjQ8mrGsK8j7Fl-KznzH48vfCFvwiJ1z8M8o8hyBv9jVKiIJK9LZpHChOcewfdQ-5I-FklAzi7aCqGNBvf32k4g40ECbA74dgpD3j_4CM_sW9GxMC38iUur8YoRQQ1Icg8Y3iGprOrD84wtOgGRSVJhIjGidAygTDA4-t1WYTFiGAhnO4c-Sqb9Ggcf5vWqe7GYLTV7t23GIxaXd100ymub3dQIaRMJbQDu6jEDQ-5E0idRa-BtqyGj0bAxktLWQfIIRhu160EaJ4gO2E1qSgPefBhfvBJvVPDDXrTXUTASw82aqnLMidqVfqUCZfgSQBmfSnRQ6FBf7hrmQ0OLQNYMcPbI3NU56B0ldfxcBiow0oy0PEKf-O34snC64yV3x9bJrKFf0xl_uWq51hpaB_VyzFa8H0eMumWuOwvGKJkA3PYOIKk02Bbu2WNMPtAgouimgF50dqAOMfNGa9VNWwUzBO4VZcdlQD24-aD2c2DvtbJddT7Q7QX2U9nM2KvIRxiXPkawTR7yU0Eg8O-eAOjJbzpXZM0mb6jupGPTfSyoDBX3O3AlY7l7FKJa6fTmE5Fo0SM4ThW2kTWFFpEEp2g8EsDw-4kwf8IPvsHUFydxRmtL8FsppJ4X37k4em55DFcv54d5k'"
      ]
     },
     "execution_count": 36,
     "metadata": {},
     "output_type": "execute_result"
    }
   ],
   "source": [
    "link_to_photo"
   ]
  },
  {
   "cell_type": "code",
   "execution_count": 7,
   "metadata": {},
   "outputs": [
    {
     "name": "stdout",
     "output_type": "stream",
     "text": [
      "100\n",
      "[{'name': 'Przygotowanie do roli, Pathways'}, {'name': 'Eliza'}, {'name': 'Zuza'}, {'name': 'Ania video'}, {'name': 'Ania'}, {'name': 'FOTO'}, {'name': 'Filmy'}, {'name': 'Konrad'}, {'name': 'Gruzja 2023 Domino Team'}, {'name': 'Dominik '}, {'name': 'Piotrek'}, {'name': 'Archiwum'}, {'name': 'Z Hanią'}, {'name': 'Cennik'}, {'name': 'BIM'}, {'name': '2023-06-26'}, {'name': 'Surowe'}, {'name': 'Archiwum'}, {'name': '2023-06-19'}, {'name': '2023-06-05'}, {'name': '2023-05-29'}, {'name': '2023-05-22'}, {'name': '2023-05-15'}, {'name': 'Cennik'}, {'name': 'GK Meble'}, {'name': '2023-05-08'}, {'name': '2023-03-13'}, {'name': '2023-04-17'}, {'name': '2023-04-24'}, {'name': 'Oferta'}, {'name': 'Cennik'}, {'name': 'ASM'}, {'name': '2023-04-03'}, {'name': '2023-03-20'}, {'name': 'FIX YOUR DATA DOMINIK TRZNADEL NIP:5213967823 REGON:522001165'}, {'name': 'Dane'}, {'name': '12'}, {'name': '11'}, {'name': '10'}, {'name': '09'}, {'name': '08'}, {'name': '07'}, {'name': '06'}, {'name': '05'}, {'name': '04'}, {'name': '03'}, {'name': '02'}, {'name': 'cenniki / dane logistyczne / terminy realizacji'}, {'name': '01'}, {'name': '2023'}, {'name': 'miłoszowo'}, {'name': '2022-12-05'}, {'name': '12'}, {'name': 'Gruzja'}, {'name': '11'}, {'name': 'Akcent'}, {'name': 'cenniki surowe'}, {'name': 'Archiwum'}, {'name': '10'}, {'name': '08'}, {'name': '09'}, {'name': '2022'}, {'name': '00000_special'}, {'name': 'Ślub i wesele Ani i Dawida 23.04.2022'}, {'name': 'archiwum'}, {'name': 'Videos'}, {'name': 'Phone'}, {'name': 'Camera'}, {'name': 'Luke Bateman'}, {'name': '17. Re-Ewolucja 2022'}, {'name': 'kajaki Ukta 22-24.07.2022'}, {'name': 'Marta Zinserling'}, {'name': 'Dominik Trznadel'}, {'name': 'Lesya Kupar'}, {'name': 'Kamil Dołowski'}, {'name': 'stolkar'}, {'name': 'Fotobudka'}, {'name': 'Zdjęcia Taty Ani'}, {'name': 'Cennik surowy'}, {'name': 'markos'}, {'name': 'Archiwum'}, {'name': 'cenniki surowe detal obowiązujące od 11.04.2022'}, {'name': 'cenniki surowe hurt obowiąujące od 11.04.2022'}, {'name': 'Archiwum cenników'}, {'name': 'Archiwum'}, {'name': 'Archiwum'}, {'name': 'ERGONOME'}, {'name': 'grupy cenowe'}, {'name': 'Karol'}, {'name': 'Karol'}, {'name': 'Karol'}, {'name': 'Karol'}, {'name': 'Archiwum'}, {'name': 'Bios'}, {'name': 'Archiwum'}, {'name': 'Nowości'}, {'name': 'cenniki surowe hurt obowiązujące od 01.10.2021'}, {'name': 'cenniki surowe detal obowiązujące od 01.10.2021'}, {'name': 'Archiwum'}, {'name': 'archiwum cenników'}]\n"
     ]
    }
   ],
   "source": [
    "from __future__ import print_function\n",
    "\n",
    "import os.path\n",
    "\n",
    "from google.auth.transport.requests import Request\n",
    "from google.oauth2.credentials import Credentials\n",
    "from google_auth_oauthlib.flow import InstalledAppFlow\n",
    "from googleapiclient.discovery import build\n",
    "from googleapiclient.errors import HttpError\n",
    "\n",
    "# If modifying these scopes, delete the file token.json.\n",
    "SCOPES = [\n",
    "    \"https://www.googleapis.com/auth/photoslibrary\",\n",
    "    \"https://www.googleapis.com/auth/drive.metadata.readonly\",\n",
    "    \"https://www.googleapis.com/auth/drive\",\n",
    "    \"https://www.googleapis.com/auth/drive.photos.readonly\",\n",
    "]\n",
    "\n",
    "\n",
    "def main():\n",
    "    \"\"\"Shows basic usage of the Drive v3 API.\n",
    "    Prints the names and ids of the first 10 files the user has access to.\n",
    "    \"\"\"\n",
    "    creds = None\n",
    "    # The file token.json stores the user's access and refresh tokens, and is\n",
    "    # created automatically when the authorization flow completes for the first\n",
    "    # time.\n",
    "    if os.path.exists(\"token.json\"):\n",
    "        creds = Credentials.from_authorized_user_file(\"token.json\", SCOPES)\n",
    "    # If there are no (valid) credentials available, let the user log in.\n",
    "    if not creds or not creds.valid:\n",
    "        if creds and creds.expired and creds.refresh_token:\n",
    "            creds.refresh(Request())\n",
    "        else:\n",
    "            flow = InstalledAppFlow.from_client_secrets_file(\n",
    "                \"google_python_project_API.json\", SCOPES\n",
    "            )\n",
    "            creds = flow.run_local_server(port=0)\n",
    "        # Save the credentials for the next run\n",
    "        with open(\"token.json\", \"w\") as token:\n",
    "            token.write(creds.to_json())\n",
    "\n",
    "    try:\n",
    "        service = build(\"drive\", \"v3\", credentials=creds)\n",
    "\n",
    "        # Call the Drive v3 API\n",
    "        results = (\n",
    "            service.files()\n",
    "            .list(\n",
    "                q=\"mimeType = 'application/vnd.google-apps.folder'\",\n",
    "                fields=\"nextPageToken, files(name)\",\n",
    "            )\n",
    "            .execute()\n",
    "        )\n",
    "        items = results.get(\"files\", [])\n",
    "        print(len(items))\n",
    "        print(items)\n",
    "        if not items:\n",
    "            print(\"No files found.\")\n",
    "            return\n",
    "        # print(\"Files:\")\n",
    "        # print(items[0:5])\n",
    "        # for item in items:\n",
    "        #     print(\n",
    "        #         \"{0} {1} {2}\".format(item[\"spaces\"], item[\"id\"], item[\"name\"])\n",
    "        #     )\n",
    "        # print(results.get(\"nextPageToken\"))\n",
    "    except HttpError as error:\n",
    "        # TODO(developer) - Handle errors from drive API.\n",
    "        print(f\"An error occurred: {error}\")\n",
    "\n",
    "\n",
    "if __name__ == \"__main__\":\n",
    "    main()"
   ]
  },
  {
   "cell_type": "code",
   "execution_count": 37,
   "metadata": {},
   "outputs": [],
   "source": [
    "openai_vision_message = [\n",
    "    {\n",
    "        \"role\": \"system\",\n",
    "        \"content\": [{\"type\": \"text\", \"text\": \"you are text describing bot\"}],\n",
    "    },\n",
    "    {\n",
    "        \"role\": \"user\",\n",
    "        \"content\": [\n",
    "            {\"type\": \"text\", \"text\": \"Describe the image below.\"},\n",
    "            {\n",
    "                \"type\": \"image_url\",\n",
    "                \"image_url\": link_to_photo,\n",
    "            },\n",
    "        ],\n",
    "    },\n",
    "]"
   ]
  },
  {
   "cell_type": "code",
   "execution_count": 38,
   "metadata": {},
   "outputs": [],
   "source": [
    "vision = openai_vision(openai_vision_message)"
   ]
  },
  {
   "cell_type": "code",
   "execution_count": 39,
   "metadata": {},
   "outputs": [
    {
     "name": "stdout",
     "output_type": "stream",
     "text": [
      "The image shows a group of six individuals standing in front of a large screen displaying what appears to be lines of code. The lighting in the room casts a purplish hue over the scene. The individuals are varied in appearance, suggesting a diverse group, and they are all wearing lanyards, which could indicate that they are attending a conference or a professional event. The background is a little blurred, but it looks like there's an audience seating area facing the screen, hinting that this might be taken during or after a presentation or talk. Everyone is looking at the camera and appears to be smiling or in a good mood, which suggests a positive and collaborative atmosphere.\n"
     ]
    }
   ],
   "source": [
    "print(vision)"
   ]
  },
  {
   "cell_type": "code",
   "execution_count": 12,
   "metadata": {},
   "outputs": [],
   "source": [
    "openai_vision_classification = [\n",
    "    {\n",
    "        \"role\": \"system\",\n",
    "        \"content\": [\n",
    "            {\n",
    "                \"type\": \"text\",\n",
    "                \"text\": \"You are photo classification bot. You will receive image. Return only type of photo and nothing more. \\\n",
    "            Available types: PEOPLE, TEXT, SCREENSHOT, OTHER\",\n",
    "            }\n",
    "        ],\n",
    "    },\n",
    "    {\n",
    "        \"role\": \"user\",\n",
    "        \"content\": [\n",
    "            {\n",
    "                \"type\": \"image_url\",\n",
    "                \"image_url\": link_to_photo,\n",
    "            },\n",
    "        ],\n",
    "    },\n",
    "]"
   ]
  },
  {
   "cell_type": "code",
   "execution_count": 13
  }
 ],
 "metadata": {
  "kernelspec": {
   "display_name": "Python 3",
   "language": "python",
   "name": "python3"
  },
  "language_info": {
   "codemirror_mode": {
    "name": "ipython",
    "version": 3
   },
   "file_extension": ".py",
   "mimetype": "text/x-python",
   "name": "python",
   "nbconvert_exporter": "python",
   "pygments_lexer": "ipython3",
   "version": "3.9.0"
  }
 },
 "nbformat": 4,
 "nbformat_minor": 2
}
