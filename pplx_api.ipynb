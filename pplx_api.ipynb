{
 "cells": [
  {
   "cell_type": "code",
   "execution_count": 2,
   "metadata": {},
   "outputs": [],
   "source": [
    "from pplx_utils import PplxApi"
   ]
  },
  {
   "cell_type": "code",
   "execution_count": 3,
   "metadata": {},
   "outputs": [],
   "source": [
    "response = PplxApi.pplx_chat_completions(\n",
    "    model=\"pplx-70b-online\",\n",
    "    system_message=\"You are birthday planner. You give precise tips after analysing options to buy presents near Warsaw, Mokotow, Ksawerow street. Birthday is in the flat and I want to buy best things to prepare the party.\",\n",
    "    user_message=\"List nearest shops to buy baloons with helium that are opened tommorow.\",\n",
    ")"
   ]
  },
  {
   "cell_type": "code",
   "execution_count": 4,
   "metadata": {},
   "outputs": [
    {
     "name": "stdout",
     "output_type": "stream",
     "text": [
      "Here are some shops where you can buy balloons with helium:\n",
      "\n",
      "1. **Party City**: They offer balloon delivery services and have a wide range of helium balloons in their store. You can order online and choose a date and time for delivery.\n",
      "2. **Walmart**: Walmart sells helium tanks in their party decorations section. They also offer balloon inflation services at some of their stores. It is recommended to confirm the availability of this service at your local Walmart.\n",
      "3. **Albertsons**: Some Albertsons stores offer helium balloon inflation services.\n",
      "4. **CVS**: Some CVS stores also provide helium balloon inflation services.\n",
      "5. **Dollar General**: A few Dollar General stores offer helium balloon inflation services.\n",
      "6. **Dollar Tree**: Some Dollar Tree stores provide helium balloon inflation services.\n",
      "7. **Kroger**: Kroger stores also offer helium balloon inflation services at selected locations.\n",
      "\n",
      "Please note that the availability of helium balloon inflation services may vary from store to store. It is recommended to contact your local store to confirm if they provide this service.\n",
      "\n"
     ]
    }
   ],
   "source": [
    "print(response)"
   ]
  },
  {
   "cell_type": "code",
   "execution_count": 1,
   "metadata": {},
   "outputs": [],
   "source": [
    "import os\n",
    "import requests\n",
    "\n",
    "from ai_config import TasksApiConfig\n",
    "\n",
    "from dotenv import load_dotenv\n",
    "\n",
    "load_dotenv()\n",
    "\n",
    "PPLX_API_TOKEN = os.getenv(\"PPLX_API_TOKEN\", \"\")\n",
    "PPLX_API_HOSTNAME = TasksApiConfig.pplx_api_hostname\n",
    "PPLX_API_HEADER = {\n",
    "    \"Authorization\": f\"Bearer {PPLX_API_TOKEN}\",\n",
    "    \"accept\": \"application/json\",\n",
    "    \"Content-Type\": \"application/json\",\n",
    "}"
   ]
  },
  {
   "cell_type": "code",
   "execution_count": 2,
   "metadata": {},
   "outputs": [
    {
     "data": {
      "text/plain": [
       "'https://api.perplexity.ai/chat/completions'"
      ]
     },
     "execution_count": 2,
     "metadata": {},
     "output_type": "execute_result"
    }
   ],
   "source": [
    "PPLX_API_HOSTNAME"
   ]
  },
  {
   "cell_type": "code",
   "execution_count": 3,
   "metadata": {},
   "outputs": [
    {
     "name": "stdout",
     "output_type": "stream",
     "text": [
      "{\"id\": \"3894189a-354b-4edc-8932-a5e10d299c33\", \"model\": \"mistral-7b-instruct\", \"created\": 1235901, \"usage\": {\"prompt_tokens\": 25, \"completion_tokens\": 44, \"total_tokens\": 69}, \"object\": \"chat.completion\", \"choices\": [{\"index\": 0, \"finish_reason\": \"stop\", \"message\": {\"role\": \"assistant\", \"content\": \"The number of stars in our galaxy, the Milky Way, is estimated to be between 100 and 400 billion. However, the most commonly accepted estimate is around 200 billion stars\"}, \"delta\": {\"role\": \"assistant\", \"content\": \"\"}}]}\n"
     ]
    }
   ],
   "source": [
    "import requests\n",
    "\n",
    "url = PPLX_API_HOSTNAME\n",
    "\n",
    "payload = {\n",
    "    \"model\": \"mistral-7b-instruct\",\n",
    "    \"messages\": [\n",
    "        {\"role\": \"system\", \"content\": \"Be precise and concise.\"},\n",
    "        {\"role\": \"user\", \"content\": \"How many stars are there in our galaxy?\"},\n",
    "    ],\n",
    "}\n",
    "\n",
    "response = requests.post(url, json=payload, headers=PPLX_API_HEADER)"
   ]
  },
  {
   "cell_type": "code",
   "execution_count": 18,
   "metadata": {},
   "outputs": [
    {
     "name": "stdout",
     "output_type": "stream",
     "text": [
      "The number of stars in our galaxy, the Milky Way, is estimated to be between 100 and 400 billion. However, the most commonly accepted estimate is around 200 billion stars\n"
     ]
    }
   ],
   "source": [
    "print(response.json()[\"choices\"][0][\"message\"][\"content\"])"
   ]
  },
  {
   "cell_type": "code",
   "execution_count": null,
   "metadata": {},
   "outputs": [],
   "source": []
  }
 ],
 "metadata": {
  "kernelspec": {
   "display_name": "Python 3",
   "language": "python",
   "name": "python3"
  },
  "language_info": {
   "codemirror_mode": {
    "name": "ipython",
    "version": 3
   },
   "file_extension": ".py",
   "mimetype": "text/x-python",
   "name": "python",
   "nbconvert_exporter": "python",
   "pygments_lexer": "ipython3",
   "version": "3.9.0"
  }
 },
 "nbformat": 4,
 "nbformat_minor": 2
}
