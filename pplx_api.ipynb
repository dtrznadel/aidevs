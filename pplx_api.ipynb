{
 "cells": [
  {
   "cell_type": "code",
   "execution_count": 2,
   "metadata": {},
   "outputs": [],
   "source": [
    "from pplx_utils import PplxApi"
   ]
  },
  {
   "cell_type": "code",
   "execution_count": 22,
   "metadata": {},
   "outputs": [],
   "source": [
    "response = PplxApi.pplx_chat_completions(\n",
    "    model=\"pplx-70b-online\",\n",
    "    system_message=\"You are personal planner bot. I live in Warsaw, Poland\",\n",
    "    user_message=\"Does Polish MP Grzegorz Braunb still have immunity?\",\n",
    ")"
   ]
  },
  {
   "cell_type": "code",
   "execution_count": 8,
   "metadata": {},
   "outputs": [
    {
     "data": {
      "text/plain": [
       "'I cannot provide real-time information on store openings. However, I can suggest some stores where you can find balloons with helium:\\n\\n1. **Party City**: They offer helium balloon delivery and have various balloon bouquets and decorations available. You can visit their website to check their store hours and delivery options. To find a Party City store near you, enter your zip code or city and state on their store locator page.\\n\\n2. **Walmart**: They offer a variety of balloons and helium tanks for sale. You can find products such as GreatWhip 13L Helium Tank for balloons at home and Balloon Time 12in Jumbo Helium Tank Kit with Colorful Latex Balloons. Visit their website or a local Walmart store to check their store hours and availability.\\n\\nPlease note that you may need to call the stores or visit their websites to confirm their hours of operation and availability of helium balloons tomorrow.'"
      ]
     },
     "execution_count": 8,
     "metadata": {},
     "output_type": "execute_result"
    }
   ],
   "source": [
    "response"
   ]
  },
  {
   "cell_type": "code",
   "execution_count": 23,
   "metadata": {},
   "outputs": [
    {
     "name": "stdout",
     "output_type": "stream",
     "text": [
      "As of the information available, it is not clear whether Polish MP Grzegorz Braun still has immunity. The information indicates that a parliamentary committee backed a motion to waive the immunity of Grzegorz Braun after a breach of COVID curbing rules. However, there is no confirmation of whether his immunity has been waived or if he still holds it.\n"
     ]
    }
   ],
   "source": [
    "print(response)"
   ]
  },
  {
   "cell_type": "code",
   "execution_count": 1,
   "metadata": {},
   "outputs": [],
   "source": [
    "import os\n",
    "import requests\n",
    "\n",
    "from ai_config import TasksApiConfig\n",
    "\n",
    "from dotenv import load_dotenv\n",
    "\n",
    "load_dotenv()\n",
    "\n",
    "PPLX_API_TOKEN = os.getenv(\"PPLX_API_TOKEN\", \"\")\n",
    "PPLX_API_HOSTNAME = TasksApiConfig.pplx_api_hostname\n",
    "PPLX_API_HEADER = {\n",
    "    \"Authorization\": f\"Bearer {PPLX_API_TOKEN}\",\n",
    "    \"accept\": \"application/json\",\n",
    "    \"Content-Type\": \"application/json\",\n",
    "}"
   ]
  },
  {
   "cell_type": "code",
   "execution_count": 2,
   "metadata": {},
   "outputs": [
    {
     "data": {
      "text/plain": [
       "'https://api.perplexity.ai/chat/completions'"
      ]
     },
     "execution_count": 2,
     "metadata": {},
     "output_type": "execute_result"
    }
   ],
   "source": [
    "PPLX_API_HOSTNAME"
   ]
  },
  {
   "cell_type": "code",
   "execution_count": 1,
   "metadata": {},
   "outputs": [
    {
     "name": "stderr",
     "output_type": "stream",
     "text": [
      "\n",
      "KeyboardInterrupt\n",
      "\n"
     ]
    }
   ],
   "source": [
    "import requests\n",
    "\n",
    "url = PPLX_API_HOSTNAME\n",
    "\n",
    "payload = {\n",
    "    \"model\": \"mistral-7b-instruct\",\n",
    "    \"messages\": [\n",
    "        {\"role\": \"system\", \"content\": \"Be precise and concise.\"},\n",
    "        {\"role\": \"user\", \"content\": \"How many stars are there in our galaxy?\"},\n",
    "    ],\n",
    "}\n",
    "\n",
    "response = requests.post(url, json=payload, headers=PPLX_API_HEADER)"
   ]
  },
  {
   "cell_type": "code",
   "execution_count": 18,
   "metadata": {},
   "outputs": [
    {
     "name": "stdout",
     "output_type": "stream",
     "text": [
      "The number of stars in our galaxy, the Milky Way, is estimated to be between 100 and 400 billion. However, the most commonly accepted estimate is around 200 billion stars\n"
     ]
    }
   ],
   "source": [
    "print(response.json()[\"choices\"][0][\"message\"][\"content\"])"
   ]
  },
  {
   "cell_type": "code",
   "execution_count": null,
   "metadata": {},
   "outputs": [],
   "source": []
  }
 ],
 "metadata": {
  "kernelspec": {
   "display_name": "Python 3",
   "language": "python",
   "name": "python3"
  },
  "language_info": {
   "codemirror_mode": {
    "name": "ipython",
    "version": 3
   },
   "file_extension": ".py",
   "mimetype": "text/x-python",
   "name": "python",
   "nbconvert_exporter": "python",
   "pygments_lexer": "ipython3",
   "version": "3.9.0"
  }
 },
 "nbformat": 4,
 "nbformat_minor": 2
}
